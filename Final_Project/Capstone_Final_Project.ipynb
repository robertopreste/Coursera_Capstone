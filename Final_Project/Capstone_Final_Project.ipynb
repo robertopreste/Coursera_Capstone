{
 "cells": [
  {
   "cell_type": "markdown",
   "metadata": {},
   "source": [
    "# Coursera Capstone Project - A brand new bicycle shop in Cambridge, UK"
   ]
  },
  {
   "cell_type": "markdown",
   "metadata": {},
   "source": [
    "## Introduction"
   ]
  },
  {
   "cell_type": "markdown",
   "metadata": {},
   "source": [
    "In a few months, I'm moving to Cambridge, UK to start a new job as a software developer. I'm currently looking for a flat, and I'll soon be looking for a bicycle to commute easily and keep healthy.  \n",
    "This brought me to a simple yet stimulating idea for this final project.  \n",
    "\n",
    "Suppose we may want to open a new bicycle shop in Cambridge, UK. I've already lived there for some time, and from what I've seen, Cambridge is a very biker-friendly city, and it's got plenty of places where people can enjoy a ride on their two-wheeled companion and discover amazing views and fascinating landscapes. We, as brand new enterpreneurs in the bicycle business, we want to exploit the great opportunities that this city offers in order to open our profitable bicycle shop.  \n",
    "\n",
    "Of course we need to know whether any other bicycle shop already exists (spoiler alert - they do) and where they're located, so to avoid having to deal with a tight competition with other bicycle shop owners.  \n",
    "An important consideration we may want to take into account (and that I'll focus on in this project) is to decide where our shop will be located in relation with places where most people riding a bicycle might be found. Specifically, we will look for spots close to the riverside, or parks, or riding routes, or also gyms and sport venues, in order to maximise our profit: if someone (say, a tourist) walks along the river or across a park and sees all those people riding their bikes and having fun, probably he will think something like \"Oh man, I wish I had a bicycle too\".  \n",
    "And there we are, with our brand new shop full of shiny bicycles, that anyone can either buy or rent for a day!\n",
    "In the same way, it is more common to find someone whose bike needs a fix in these places, so we may also profit from bicycle repair and mainteinance. "
   ]
  },
  {
   "cell_type": "markdown",
   "metadata": {},
   "source": [
    "___"
   ]
  },
  {
   "cell_type": "markdown",
   "metadata": {},
   "source": [
    "## Data"
   ]
  },
  {
   "cell_type": "markdown",
   "metadata": {},
   "source": [
    "First of all, for the sake of simplicity, I chose to focus my attention on the main city of Cambridge, namely neighborhoods whose postcodes start with CB1 up to CB5. So, we'll need all these postcodes and the related neighborhood names; luckily, I found [this great resource](https://www.doogal.co.uk/AdministrativeAreas.php?district=E07000008) which offers these data as a simple CSV file, complete with latitude and longitude coordinates of each postcode.  \n",
    "\n",
    "We will then use Foursquare to find existing bicycle shops and remove these places from our list of candidates spots where our new shop will be located; on the other hand, we will identify local venues such as parks, cycling routes and other places of natural interest where bikers might most commonly be found, as well as gyms and sport venues, because people probably will cycle to these places in order to warm up before their favourite sport class.  \n",
    "These places will be our best candidates for our shop. We might also use a clustering approach to further inspect our results, but I suspect it will be an overkill for this rather simple task. "
   ]
  },
  {
   "cell_type": "markdown",
   "metadata": {},
   "source": [
    "___ "
   ]
  },
  {
   "cell_type": "markdown",
   "metadata": {},
   "source": [
    "## Methodology"
   ]
  },
  {
   "cell_type": "code",
   "execution_count": 1,
   "metadata": {},
   "outputs": [],
   "source": [
    "import pandas as pd\n",
    "import numpy as np \n",
    "import matplotlib.pyplot as plt \n",
    "import matplotlib.cm as cm \n",
    "import matplotlib.colors as colors\n",
    "from geopy.geocoders import Nominatim\n",
    "import folium\n",
    "import requests"
   ]
  },
  {
   "cell_type": "markdown",
   "metadata": {},
   "source": [
    "First of all, let's download the Cambridge postcodes data, from the above-mentioned URL. "
   ]
  },
  {
   "cell_type": "code",
   "execution_count": 2,
   "metadata": {},
   "outputs": [
    {
     "name": "stdout",
     "output_type": "stream",
     "text": [
      "--2019-06-16 16:33:52--  https://www.doogal.co.uk/AdministrativeAreasCSV.ashx?district=E07000008\n",
      "Resolving www.doogal.co.uk (www.doogal.co.uk)... 212.227.100.176\n",
      "Connecting to www.doogal.co.uk (www.doogal.co.uk)|212.227.100.176|:443... connected.\n",
      "HTTP request sent, awaiting response... 200 OK\n",
      "Length: 1280470 (1.2M) [text/plain]\n",
      "Saving to: ‘data/cambridge_postcodes.csv’\n",
      "\n",
      "data/cambridge_post 100%[===================>]   1.22M  3.78MB/s    in 0.3s    \n",
      "\n",
      "2019-06-16 16:33:53 (3.78 MB/s) - ‘data/cambridge_postcodes.csv’ saved [1280470/1280470]\n",
      "\n"
     ]
    }
   ],
   "source": [
    "!wget -O data/cambridge_postcodes.csv https://www.doogal.co.uk/AdministrativeAreasCSV.ashx?district=E07000008 "
   ]
  },
  {
   "cell_type": "code",
   "execution_count": 2,
   "metadata": {},
   "outputs": [
    {
     "data": {
      "text/html": [
       "<div>\n",
       "<style scoped>\n",
       "    .dataframe tbody tr th:only-of-type {\n",
       "        vertical-align: middle;\n",
       "    }\n",
       "\n",
       "    .dataframe tbody tr th {\n",
       "        vertical-align: top;\n",
       "    }\n",
       "\n",
       "    .dataframe thead th {\n",
       "        text-align: right;\n",
       "    }\n",
       "</style>\n",
       "<table border=\"1\" class=\"dataframe\">\n",
       "  <thead>\n",
       "    <tr style=\"text-align: right;\">\n",
       "      <th></th>\n",
       "      <th>Postcode</th>\n",
       "      <th>In Use?</th>\n",
       "      <th>Latitude</th>\n",
       "      <th>Longitude</th>\n",
       "      <th>Easting</th>\n",
       "      <th>Northing</th>\n",
       "      <th>Grid Ref</th>\n",
       "      <th>Ward</th>\n",
       "      <th>Parish</th>\n",
       "      <th>Introduced</th>\n",
       "      <th>Terminated</th>\n",
       "      <th>Altitude</th>\n",
       "      <th>Country</th>\n",
       "      <th>Last Updated</th>\n",
       "      <th>Quality</th>\n",
       "      <th>LSOA Code</th>\n",
       "    </tr>\n",
       "  </thead>\n",
       "  <tbody>\n",
       "    <tr>\n",
       "      <th>0</th>\n",
       "      <td>CB1 0AA</td>\n",
       "      <td>No</td>\n",
       "      <td>52.192267</td>\n",
       "      <td>0.137208</td>\n",
       "      <td>546184</td>\n",
       "      <td>257045</td>\n",
       "      <td>TL461570</td>\n",
       "      <td>Coleridge</td>\n",
       "      <td>Cambridge, unparished area</td>\n",
       "      <td>2017-04-01</td>\n",
       "      <td>2018-05-01</td>\n",
       "      <td>11</td>\n",
       "      <td>England</td>\n",
       "      <td>2019-05-29</td>\n",
       "      <td>Within the building of the matched address clo...</td>\n",
       "      <td>E01017966</td>\n",
       "    </tr>\n",
       "    <tr>\n",
       "      <th>1</th>\n",
       "      <td>CB1 0AB</td>\n",
       "      <td>No</td>\n",
       "      <td>52.192267</td>\n",
       "      <td>0.137208</td>\n",
       "      <td>546184</td>\n",
       "      <td>257045</td>\n",
       "      <td>TL461570</td>\n",
       "      <td>Coleridge</td>\n",
       "      <td>Cambridge, unparished area</td>\n",
       "      <td>2017-05-01</td>\n",
       "      <td>2017-12-01</td>\n",
       "      <td>11</td>\n",
       "      <td>England</td>\n",
       "      <td>2019-05-29</td>\n",
       "      <td>Within the building of the matched address clo...</td>\n",
       "      <td>E01017966</td>\n",
       "    </tr>\n",
       "    <tr>\n",
       "      <th>2</th>\n",
       "      <td>CB1 0AD</td>\n",
       "      <td>No</td>\n",
       "      <td>52.192267</td>\n",
       "      <td>0.137208</td>\n",
       "      <td>546184</td>\n",
       "      <td>257045</td>\n",
       "      <td>TL461570</td>\n",
       "      <td>Coleridge</td>\n",
       "      <td>Cambridge, unparished area</td>\n",
       "      <td>2017-08-01</td>\n",
       "      <td>2019-04-01</td>\n",
       "      <td>11</td>\n",
       "      <td>England</td>\n",
       "      <td>2019-05-29</td>\n",
       "      <td>Within the building of the matched address clo...</td>\n",
       "      <td>E01017966</td>\n",
       "    </tr>\n",
       "    <tr>\n",
       "      <th>3</th>\n",
       "      <td>CB1 0AE</td>\n",
       "      <td>No</td>\n",
       "      <td>52.192267</td>\n",
       "      <td>0.137208</td>\n",
       "      <td>546184</td>\n",
       "      <td>257045</td>\n",
       "      <td>TL461570</td>\n",
       "      <td>Coleridge</td>\n",
       "      <td>Cambridge, unparished area</td>\n",
       "      <td>2017-09-01</td>\n",
       "      <td>2018-04-01</td>\n",
       "      <td>11</td>\n",
       "      <td>England</td>\n",
       "      <td>2019-05-29</td>\n",
       "      <td>Within the building of the matched address clo...</td>\n",
       "      <td>E01017966</td>\n",
       "    </tr>\n",
       "    <tr>\n",
       "      <th>4</th>\n",
       "      <td>CB1 0AF</td>\n",
       "      <td>No</td>\n",
       "      <td>52.192267</td>\n",
       "      <td>0.137208</td>\n",
       "      <td>546184</td>\n",
       "      <td>257045</td>\n",
       "      <td>TL461570</td>\n",
       "      <td>Coleridge</td>\n",
       "      <td>Cambridge, unparished area</td>\n",
       "      <td>2017-10-01</td>\n",
       "      <td>2018-04-01</td>\n",
       "      <td>11</td>\n",
       "      <td>England</td>\n",
       "      <td>2019-05-29</td>\n",
       "      <td>Within the building of the matched address clo...</td>\n",
       "      <td>E01017966</td>\n",
       "    </tr>\n",
       "  </tbody>\n",
       "</table>\n",
       "</div>"
      ],
      "text/plain": [
       "  Postcode In Use?   Latitude  Longitude  Easting  Northing  Grid Ref  \\\n",
       "0  CB1 0AA      No  52.192267   0.137208   546184    257045  TL461570   \n",
       "1  CB1 0AB      No  52.192267   0.137208   546184    257045  TL461570   \n",
       "2  CB1 0AD      No  52.192267   0.137208   546184    257045  TL461570   \n",
       "3  CB1 0AE      No  52.192267   0.137208   546184    257045  TL461570   \n",
       "4  CB1 0AF      No  52.192267   0.137208   546184    257045  TL461570   \n",
       "\n",
       "        Ward                      Parish  Introduced  Terminated  Altitude  \\\n",
       "0  Coleridge  Cambridge, unparished area  2017-04-01  2018-05-01        11   \n",
       "1  Coleridge  Cambridge, unparished area  2017-05-01  2017-12-01        11   \n",
       "2  Coleridge  Cambridge, unparished area  2017-08-01  2019-04-01        11   \n",
       "3  Coleridge  Cambridge, unparished area  2017-09-01  2018-04-01        11   \n",
       "4  Coleridge  Cambridge, unparished area  2017-10-01  2018-04-01        11   \n",
       "\n",
       "   Country Last Updated                                            Quality  \\\n",
       "0  England   2019-05-29  Within the building of the matched address clo...   \n",
       "1  England   2019-05-29  Within the building of the matched address clo...   \n",
       "2  England   2019-05-29  Within the building of the matched address clo...   \n",
       "3  England   2019-05-29  Within the building of the matched address clo...   \n",
       "4  England   2019-05-29  Within the building of the matched address clo...   \n",
       "\n",
       "   LSOA Code  \n",
       "0  E01017966  \n",
       "1  E01017966  \n",
       "2  E01017966  \n",
       "3  E01017966  \n",
       "4  E01017966  "
      ]
     },
     "execution_count": 2,
     "metadata": {},
     "output_type": "execute_result"
    }
   ],
   "source": [
    "cam_codes = pd.read_csv(\"data/cambridge_postcodes.csv\")\n",
    "cam_codes.head()"
   ]
  },
  {
   "cell_type": "code",
   "execution_count": 3,
   "metadata": {},
   "outputs": [
    {
     "data": {
      "text/plain": [
       "(5864, 16)"
      ]
     },
     "execution_count": 3,
     "metadata": {},
     "output_type": "execute_result"
    }
   ],
   "source": [
    "cam_codes.shape"
   ]
  },
  {
   "cell_type": "markdown",
   "metadata": {},
   "source": [
    "As we can see, we have a lot of information here. Let's first remove all the data that we're not interested in.  \n",
    "The first rows of the dataframe report some postcodes that are no longer used, so we'll drop them. "
   ]
  },
  {
   "cell_type": "code",
   "execution_count": 4,
   "metadata": {},
   "outputs": [],
   "source": [
    "cam_codes = cam_codes[cam_codes[\"In Use?\"] == \"Yes\"]"
   ]
  },
  {
   "cell_type": "markdown",
   "metadata": {},
   "source": [
    "We also want to focus on `CB1` to `CB5` postcodes, avoiding outskirts. Luckily our dataframe already fulfills this need, so we're fine. "
   ]
  },
  {
   "cell_type": "code",
   "execution_count": 5,
   "metadata": {},
   "outputs": [
    {
     "data": {
      "text/html": [
       "<div>\n",
       "<style scoped>\n",
       "    .dataframe tbody tr th:only-of-type {\n",
       "        vertical-align: middle;\n",
       "    }\n",
       "\n",
       "    .dataframe tbody tr th {\n",
       "        vertical-align: top;\n",
       "    }\n",
       "\n",
       "    .dataframe thead th {\n",
       "        text-align: right;\n",
       "    }\n",
       "</style>\n",
       "<table border=\"1\" class=\"dataframe\">\n",
       "  <thead>\n",
       "    <tr style=\"text-align: right;\">\n",
       "      <th></th>\n",
       "      <th>Postcode</th>\n",
       "      <th>In Use?</th>\n",
       "      <th>Latitude</th>\n",
       "      <th>Longitude</th>\n",
       "      <th>Easting</th>\n",
       "      <th>Northing</th>\n",
       "      <th>Grid Ref</th>\n",
       "      <th>Ward</th>\n",
       "      <th>Parish</th>\n",
       "      <th>Introduced</th>\n",
       "      <th>Terminated</th>\n",
       "      <th>Altitude</th>\n",
       "      <th>Country</th>\n",
       "      <th>Last Updated</th>\n",
       "      <th>Quality</th>\n",
       "      <th>LSOA Code</th>\n",
       "    </tr>\n",
       "  </thead>\n",
       "  <tbody>\n",
       "  </tbody>\n",
       "</table>\n",
       "</div>"
      ],
      "text/plain": [
       "Empty DataFrame\n",
       "Columns: [Postcode, In Use?, Latitude, Longitude, Easting, Northing, Grid Ref, Ward, Parish, Introduced, Terminated, Altitude, Country, Last Updated, Quality, LSOA Code]\n",
       "Index: []"
      ]
     },
     "execution_count": 5,
     "metadata": {},
     "output_type": "execute_result"
    }
   ],
   "source": [
    "cam_codes[~cam_codes[\"Postcode\"].str.startswith(\"CB1\") & \n",
    "          ~cam_codes[\"Postcode\"].str.startswith(\"CB2\") & \n",
    "          ~cam_codes[\"Postcode\"].str.startswith(\"CB3\") & \n",
    "          ~cam_codes[\"Postcode\"].str.startswith(\"CB4\") & \n",
    "          ~cam_codes[\"Postcode\"].str.startswith(\"CB5\")]"
   ]
  },
  {
   "cell_type": "markdown",
   "metadata": {},
   "source": [
    "Now let's drop features that are useless for our purpose and keep only the data that we need, to obtain a clean and simple dataset. "
   ]
  },
  {
   "cell_type": "code",
   "execution_count": 6,
   "metadata": {},
   "outputs": [
    {
     "data": {
      "text/html": [
       "<div>\n",
       "<style scoped>\n",
       "    .dataframe tbody tr th:only-of-type {\n",
       "        vertical-align: middle;\n",
       "    }\n",
       "\n",
       "    .dataframe tbody tr th {\n",
       "        vertical-align: top;\n",
       "    }\n",
       "\n",
       "    .dataframe thead th {\n",
       "        text-align: right;\n",
       "    }\n",
       "</style>\n",
       "<table border=\"1\" class=\"dataframe\">\n",
       "  <thead>\n",
       "    <tr style=\"text-align: right;\">\n",
       "      <th></th>\n",
       "      <th>Postcode</th>\n",
       "      <th>Latitude</th>\n",
       "      <th>Longitude</th>\n",
       "      <th>Ward</th>\n",
       "    </tr>\n",
       "  </thead>\n",
       "  <tbody>\n",
       "    <tr>\n",
       "      <th>6</th>\n",
       "      <td>CB1 0AH</td>\n",
       "      <td>52.192254</td>\n",
       "      <td>0.137179</td>\n",
       "      <td>Coleridge</td>\n",
       "    </tr>\n",
       "    <tr>\n",
       "      <th>9</th>\n",
       "      <td>CB1 0AN</td>\n",
       "      <td>52.192254</td>\n",
       "      <td>0.137179</td>\n",
       "      <td>Coleridge</td>\n",
       "    </tr>\n",
       "    <tr>\n",
       "      <th>14</th>\n",
       "      <td>CB1 0AU</td>\n",
       "      <td>52.192267</td>\n",
       "      <td>0.137208</td>\n",
       "      <td>Coleridge</td>\n",
       "    </tr>\n",
       "    <tr>\n",
       "      <th>18</th>\n",
       "      <td>CB1 0AZ</td>\n",
       "      <td>52.192267</td>\n",
       "      <td>0.137208</td>\n",
       "      <td>Coleridge</td>\n",
       "    </tr>\n",
       "    <tr>\n",
       "      <th>20</th>\n",
       "      <td>CB1 0BB</td>\n",
       "      <td>52.192267</td>\n",
       "      <td>0.137208</td>\n",
       "      <td>Coleridge</td>\n",
       "    </tr>\n",
       "  </tbody>\n",
       "</table>\n",
       "</div>"
      ],
      "text/plain": [
       "   Postcode   Latitude  Longitude       Ward\n",
       "6   CB1 0AH  52.192254   0.137179  Coleridge\n",
       "9   CB1 0AN  52.192254   0.137179  Coleridge\n",
       "14  CB1 0AU  52.192267   0.137208  Coleridge\n",
       "18  CB1 0AZ  52.192267   0.137208  Coleridge\n",
       "20  CB1 0BB  52.192267   0.137208  Coleridge"
      ]
     },
     "execution_count": 6,
     "metadata": {},
     "output_type": "execute_result"
    }
   ],
   "source": [
    "cam_codes = cam_codes[[\"Postcode\", \"Latitude\", \"Longitude\", \"Ward\"]]\n",
    "cam_codes.head()"
   ]
  },
  {
   "cell_type": "code",
   "execution_count": 7,
   "metadata": {},
   "outputs": [
    {
     "data": {
      "text/plain": [
       "(2788, 4)"
      ]
     },
     "execution_count": 7,
     "metadata": {},
     "output_type": "execute_result"
    }
   ],
   "source": [
    "cam_codes.shape"
   ]
  },
  {
   "cell_type": "markdown",
   "metadata": {},
   "source": [
    "However, it seems like we still have a bit too many postcodes to deal with! I tried to show all these points in a map, and my session froze unmercifully (by the way, [this](https://checkmypostcode.uk/cambridgeshire/cambridge#.XQZbnFXVL4a) is more or less what our map would look like... quite overwhelming if you ask me).  \n",
    "So I thought I'd simply leave out the last character of each postcode, and use the mean latitude and longitude for that area. Using `CB1 0A_` as an example, its new latitude and longitude coordinates would be:  "
   ]
  },
  {
   "cell_type": "code",
   "execution_count": 17,
   "metadata": {},
   "outputs": [
    {
     "data": {
      "text/plain": [
       "Latitude     52.192261\n",
       "Longitude     0.137193\n",
       "dtype: float64"
      ]
     },
     "execution_count": 17,
     "metadata": {},
     "output_type": "execute_result"
    }
   ],
   "source": [
    "cam_codes[cam_codes[\"Postcode\"].str.startswith(\"CB1 0A\")][[\"Latitude\", \"Longitude\"]].mean()"
   ]
  },
  {
   "cell_type": "markdown",
   "metadata": {},
   "source": [
    "This seems to be a good compromise to reduce our data without losing too much information, so let's code something more programmatic to achieve this. "
   ]
  },
  {
   "cell_type": "code",
   "execution_count": null,
   "metadata": {},
   "outputs": [],
   "source": []
  },
  {
   "cell_type": "code",
   "execution_count": null,
   "metadata": {},
   "outputs": [],
   "source": []
  },
  {
   "cell_type": "code",
   "execution_count": null,
   "metadata": {},
   "outputs": [],
   "source": []
  },
  {
   "cell_type": "markdown",
   "metadata": {},
   "source": [
    "Let's create a basic map to visually check where we are (Cambridge latitude and longitude coordinates can be found [on this page](https://postal-code.co.uk/postcode/Cambridge)). "
   ]
  },
  {
   "cell_type": "code",
   "execution_count": 11,
   "metadata": {},
   "outputs": [
    {
     "name": "stdout",
     "output_type": "stream",
     "text": [
      "52.205337 0.121817\n"
     ]
    }
   ],
   "source": [
    "# address = \"Cambridge, UK\"\n",
    "# geoloc = Nominatim(user_agent=\"cambridge_explorer\")\n",
    "# loc = geoloc.geocode(address)\n",
    "# cam_lat = loc.latitude\n",
    "# cam_long = loc.longitude\n",
    "cam_lat = 52.2053370\n",
    "cam_lng = 0.1218170\n",
    "print(cam_lat, cam_lng)"
   ]
  },
  {
   "cell_type": "code",
   "execution_count": 15,
   "metadata": {},
   "outputs": [
    {
     "data": {
      "text/html": [
       "<div style=\"width:100%;\"><div style=\"position:relative;width:100%;height:0;padding-bottom:60%;\"><iframe src=\"data:text/html;charset=utf-8;base64,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\" style=\"position:absolute;width:100%;height:100%;left:0;top:0;border:none !important;\" allowfullscreen webkitallowfullscreen mozallowfullscreen></iframe></div></div>"
      ],
      "text/plain": [
       "<folium.folium.Map at 0x7ff99406d588>"
      ]
     },
     "execution_count": 15,
     "metadata": {},
     "output_type": "execute_result"
    }
   ],
   "source": [
    "cam_map = folium.Map(location=[cam_lat, cam_lng], zoom_start=14)\n",
    "# for lat, lng, postcode, ward in zip(cam_codes[\"Latitude\"], cam_codes[\"Longitude\"], \n",
    "#                                     cam_codes[\"Postcode\"], cam_codes[\"Ward\"]):\n",
    "#     label = \"{} ({})\".format(postcode, ward)\n",
    "#     label = folium.Popup(label, parse_html=True)\n",
    "#     folium.CircleMarker(\n",
    "#         [lat, lng],\n",
    "#         radius=5,\n",
    "#         popup=label,\n",
    "#         color=\"#ff7f00\",\n",
    "#         fill=True,\n",
    "#         fill_color='#fdbf6f',\n",
    "#         fill_opacity=0.7,\n",
    "#         parse_html=False).add_to(cam_map)\n",
    "\n",
    "cam_map"
   ]
  },
  {
   "cell_type": "code",
   "execution_count": null,
   "metadata": {},
   "outputs": [],
   "source": []
  },
  {
   "cell_type": "markdown",
   "metadata": {},
   "source": [
    "___"
   ]
  },
  {
   "cell_type": "markdown",
   "metadata": {},
   "source": [
    "## Results "
   ]
  },
  {
   "cell_type": "code",
   "execution_count": null,
   "metadata": {},
   "outputs": [],
   "source": []
  },
  {
   "cell_type": "markdown",
   "metadata": {},
   "source": [
    "___ "
   ]
  },
  {
   "cell_type": "markdown",
   "metadata": {},
   "source": [
    "## Discussion"
   ]
  },
  {
   "cell_type": "code",
   "execution_count": null,
   "metadata": {},
   "outputs": [],
   "source": []
  },
  {
   "cell_type": "markdown",
   "metadata": {},
   "source": [
    "___"
   ]
  },
  {
   "cell_type": "markdown",
   "metadata": {},
   "source": [
    "## Conclusion"
   ]
  },
  {
   "cell_type": "code",
   "execution_count": null,
   "metadata": {},
   "outputs": [],
   "source": []
  },
  {
   "cell_type": "code",
   "execution_count": null,
   "metadata": {},
   "outputs": [],
   "source": []
  }
 ],
 "metadata": {
  "kernelspec": {
   "display_name": "Python 3",
   "language": "python",
   "name": "python3"
  },
  "language_info": {
   "codemirror_mode": {
    "name": "ipython",
    "version": 3
   },
   "file_extension": ".py",
   "mimetype": "text/x-python",
   "name": "python",
   "nbconvert_exporter": "python",
   "pygments_lexer": "ipython3",
   "version": "3.7.3"
  }
 },
 "nbformat": 4,
 "nbformat_minor": 2
}
